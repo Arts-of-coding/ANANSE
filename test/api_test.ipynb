{
 "cells": [
  {
   "cell_type": "code",
   "execution_count": 2,
   "metadata": {
    "ExecuteTime": {
     "end_time": "2019-10-07T15:29:13.119421Z",
     "start_time": "2019-10-07T15:29:10.766146Z"
    }
   },
   "outputs": [],
   "source": [
    "import sys \n",
    "import importlib\n",
    "sys.path.append('../')\n",
    "\n",
    "import pandas as pd\n",
    "\n",
    "import dask.dataframe as dd\n",
    "\n",
    "import grns.binding\n",
    "\n"
   ]
  },
  {
   "cell_type": "code",
   "execution_count": 7,
   "metadata": {
    "ExecuteTime": {
     "end_time": "2019-10-07T15:31:32.996650Z",
     "start_time": "2019-10-07T15:31:32.992549Z"
    }
   },
   "outputs": [],
   "source": [
    "gene_bed=\"/home/qxu/.local/share/genomes/hg38/hg38_gffbed_piroteinCoding.bed\"\n",
    "peak_bed=\"data/krt_enhancer.bed\"\n",
    "pwmfile=\"../data/gimme.vertebrate.v5.1.pfm\""
   ]
  },
  {
   "cell_type": "code",
   "execution_count": 9,
   "metadata": {
    "ExecuteTime": {
     "end_time": "2019-10-07T15:33:05.368046Z",
     "start_time": "2019-10-07T15:33:04.530773Z"
    }
   },
   "outputs": [],
   "source": [
    "importlib.reload(grns.binding)\n",
    "\n",
    "a=grns.binding.Binding(genome=\"hg38\", \n",
    "                        gene_bed= gene_bed, pwmfile=pwmfile)\n"
   ]
  },
  {
   "cell_type": "code",
   "execution_count": 96,
   "metadata": {
    "ExecuteTime": {
     "end_time": "2019-10-07T14:56:05.845890Z",
     "start_time": "2019-10-07T14:56:04.520664Z"
    }
   },
   "outputs": [],
   "source": [
    "\n",
    "filter_bed = a.clear_peaks(peak_bed)\n"
   ]
  },
  {
   "cell_type": "code",
   "execution_count": 98,
   "metadata": {
    "ExecuteTime": {
     "end_time": "2019-10-07T15:02:36.849187Z",
     "start_time": "2019-10-07T15:02:36.842591Z"
    }
   },
   "outputs": [],
   "source": [
    "# with open(filter_bed.name) as f:\n",
    "#     for i in f:\n",
    "#         print(i)"
   ]
  },
  {
   "cell_type": "code",
   "execution_count": 100,
   "metadata": {
    "ExecuteTime": {
     "end_time": "2019-10-07T15:04:03.149572Z",
     "start_time": "2019-10-07T15:02:53.187935Z"
    }
   },
   "outputs": [
    {
     "name": "stdout",
     "output_type": "stream",
     "text": [
      "0 - 10000\n"
     ]
    },
    {
     "name": "stderr",
     "output_type": "stream",
     "text": [
      "2019-10-07 17:02:59,523 - INFO - using default background: genome hg38 with length 200\n",
      "2019-10-07 17:02:59,524 - INFO - using background: genome hg38 with length 200\n"
     ]
    },
    {
     "name": "stdout",
     "output_type": "stream",
     "text": [
      "Combine\n"
     ]
    }
   ],
   "source": [
    "pwm_weight = a.get_PWMScore(filter_bed.name)\n"
   ]
  },
  {
   "cell_type": "code",
   "execution_count": 102,
   "metadata": {
    "ExecuteTime": {
     "end_time": "2019-10-07T15:07:43.482396Z",
     "start_time": "2019-10-07T15:07:43.426381Z"
    }
   },
   "outputs": [],
   "source": [
    "pwm = dd.read_csv(pwm_weight.name, sep=\"\\t\")\n",
    "peak_weight = a.get_peakRPKM(filter_bed.name)\n"
   ]
  },
  {
   "cell_type": "code",
   "execution_count": 105,
   "metadata": {
    "ExecuteTime": {
     "end_time": "2019-10-07T15:11:31.238791Z",
     "start_time": "2019-10-07T15:11:28.657539Z"
    }
   },
   "outputs": [
    {
     "name": "stdout",
     "output_type": "stream",
     "text": [
      "combining tables\n",
      "predict\n",
      "save results\n"
     ]
    }
   ],
   "source": [
    "peak = dd.read_csv(peak_weight.name, sep=\"\\t\")\n",
    "\n",
    "table=a.get_binding_score(pwm, peak)\n"
   ]
  },
  {
   "cell_type": "code",
   "execution_count": 92,
   "metadata": {
    "ExecuteTime": {
     "end_time": "2019-10-07T14:24:08.105624Z",
     "start_time": "2019-10-07T14:22:55.320152Z"
    }
   },
   "outputs": [
    {
     "name": "stdout",
     "output_type": "stream",
     "text": [
      "0 - 10000\n"
     ]
    },
    {
     "name": "stderr",
     "output_type": "stream",
     "text": [
      "2019-10-07 16:23:02,746 - INFO - using default background: genome hg38 with length 200\n",
      "2019-10-07 16:23:02,748 - INFO - using background: genome hg38 with length 200\n"
     ]
    },
    {
     "name": "stdout",
     "output_type": "stream",
     "text": [
      "Combine\n",
      "combining tables\n",
      "predict\n",
      "save results\n"
     ]
    }
   ],
   "source": [
    "\n",
    "filter_bed = a.clear_peaks(peak_bed)\n",
    "\n",
    "pwm_weight = a.get_PWMScore(filter_bed.name)\n",
    "pwm = dd.read_csv(pwm_weight.name, sep=\"\\t\")\n",
    "\n",
    "peak_weight = a.get_peakRPKM(filter_bed.name)\n",
    "peak = dd.read_csv(peak_weight.name, sep=\"\\t\")\n",
    "\n",
    "table=a.get_binding_score(pwm, peak)\n",
    "\n"
   ]
  },
  {
   "cell_type": "code",
   "execution_count": 119,
   "metadata": {
    "ExecuteTime": {
     "end_time": "2019-10-07T15:23:09.143325Z",
     "start_time": "2019-10-07T15:23:07.189487Z"
    }
   },
   "outputs": [
    {
     "name": "stdout",
     "output_type": "stream",
     "text": [
      "combining tables\n",
      "predict\n",
      "save results\n"
     ]
    }
   ],
   "source": [
    "table=a.get_binding_score(pwm, peak)\n"
   ]
  },
  {
   "cell_type": "code",
   "execution_count": 121,
   "metadata": {
    "ExecuteTime": {
     "end_time": "2019-10-07T15:23:32.613465Z",
     "start_time": "2019-10-07T15:23:32.609590Z"
    }
   },
   "outputs": [],
   "source": [
    "# table"
   ]
  },
  {
   "cell_type": "code",
   "execution_count": 30,
   "metadata": {
    "ExecuteTime": {
     "end_time": "2019-10-07T13:15:54.025380Z",
     "start_time": "2019-10-07T13:15:54.017493Z"
    }
   },
   "outputs": [],
   "source": [
    "# xx=a.get_binding_score(\"results/filtered_enahncers.txt\",\"./\")"
   ]
  },
  {
   "cell_type": "code",
   "execution_count": 10,
   "metadata": {
    "ExecuteTime": {
     "end_time": "2019-10-07T15:34:07.432161Z",
     "start_time": "2019-10-07T15:33:07.841158Z"
    }
   },
   "outputs": [
    {
     "name": "stdout",
     "output_type": "stream",
     "text": [
      "0 - 10000\n"
     ]
    },
    {
     "name": "stderr",
     "output_type": "stream",
     "text": [
      "2019-10-07 17:33:12,413 - INFO - using default background: genome hg38 with length 200\n",
      "2019-10-07 17:33:12,413 - INFO - using default background: genome hg38 with length 200\n",
      "2019-10-07 17:33:12,414 - INFO - using background: genome hg38 with length 200\n",
      "2019-10-07 17:33:12,414 - INFO - using background: genome hg38 with length 200\n"
     ]
    },
    {
     "name": "stdout",
     "output_type": "stream",
     "text": [
      "Combine\n"
     ]
    },
    {
     "ename": "AttributeError",
     "evalue": "'Binding' object has no attribute 'model'",
     "output_type": "error",
     "traceback": [
      "\u001b[0;31m---------------------------------------------------------------------------\u001b[0m",
      "\u001b[0;31mAttributeError\u001b[0m                            Traceback (most recent call last)",
      "\u001b[0;32m<ipython-input-10-644db3c4c1c4>\u001b[0m in \u001b[0;36m<module>\u001b[0;34m\u001b[0m\n\u001b[0;32m----> 1\u001b[0;31m \u001b[0mxxx\u001b[0m\u001b[0;34m=\u001b[0m\u001b[0ma\u001b[0m\u001b[0;34m.\u001b[0m\u001b[0mrun_binding\u001b[0m\u001b[0;34m(\u001b[0m\u001b[0mpeak_bed\u001b[0m\u001b[0;34m,\u001b[0m\u001b[0;34m\"./\"\u001b[0m\u001b[0;34m)\u001b[0m\u001b[0;34m\u001b[0m\u001b[0;34m\u001b[0m\u001b[0m\n\u001b[0m",
      "\u001b[0;32m~/git/network2/grns/binding.py\u001b[0m in \u001b[0;36mrun_binding\u001b[0;34m(self, peak_bed, outdir)\u001b[0m\n\u001b[1;32m    278\u001b[0m         \u001b[0mpeak\u001b[0m \u001b[0;34m=\u001b[0m \u001b[0mdd\u001b[0m\u001b[0;34m.\u001b[0m\u001b[0mread_csv\u001b[0m\u001b[0;34m(\u001b[0m\u001b[0mpeak_weight\u001b[0m\u001b[0;34m.\u001b[0m\u001b[0mname\u001b[0m\u001b[0;34m,\u001b[0m \u001b[0msep\u001b[0m\u001b[0;34m=\u001b[0m\u001b[0;34m\"\\t\"\u001b[0m\u001b[0;34m)\u001b[0m\u001b[0;34m\u001b[0m\u001b[0;34m\u001b[0m\u001b[0m\n\u001b[1;32m    279\u001b[0m \u001b[0;34m\u001b[0m\u001b[0m\n\u001b[0;32m--> 280\u001b[0;31m         \u001b[0mtable\u001b[0m\u001b[0;34m=\u001b[0m\u001b[0mself\u001b[0m\u001b[0;34m.\u001b[0m\u001b[0mget_binding_score\u001b[0m\u001b[0;34m(\u001b[0m\u001b[0mpwm\u001b[0m\u001b[0;34m,\u001b[0m \u001b[0mpeak\u001b[0m\u001b[0;34m)\u001b[0m\u001b[0;34m\u001b[0m\u001b[0;34m\u001b[0m\u001b[0m\n\u001b[0m\u001b[1;32m    281\u001b[0m \u001b[0;34m\u001b[0m\u001b[0m\n\u001b[1;32m    282\u001b[0m         \u001b[0moutfile\u001b[0m \u001b[0;34m=\u001b[0m \u001b[0mos\u001b[0m\u001b[0;34m.\u001b[0m\u001b[0mpath\u001b[0m\u001b[0;34m.\u001b[0m\u001b[0mjoin\u001b[0m\u001b[0;34m(\u001b[0m\u001b[0moutdir\u001b[0m\u001b[0;34m,\u001b[0m \u001b[0;34m\"binding.predicted.txt\"\u001b[0m\u001b[0;34m)\u001b[0m\u001b[0;34m\u001b[0m\u001b[0;34m\u001b[0m\u001b[0m\n",
      "\u001b[0;32m~/git/network2/grns/binding.py\u001b[0m in \u001b[0;36mget_binding_score\u001b[0;34m(self, pwm, peak)\u001b[0m\n\u001b[1;32m    249\u001b[0m \u001b[0;34m\u001b[0m\u001b[0m\n\u001b[1;32m    250\u001b[0m         \u001b[0;31m# Load model\u001b[0m\u001b[0;34m\u001b[0m\u001b[0;34m\u001b[0m\u001b[0;34m\u001b[0m\u001b[0m\n\u001b[0;32m--> 251\u001b[0;31m         \u001b[0;32mwith\u001b[0m \u001b[0mopen\u001b[0m\u001b[0;34m(\u001b[0m\u001b[0mself\u001b[0m\u001b[0;34m.\u001b[0m\u001b[0mmodel\u001b[0m\u001b[0;34m,\u001b[0m \u001b[0;34m\"rb\"\u001b[0m\u001b[0;34m)\u001b[0m \u001b[0;32mas\u001b[0m \u001b[0mf\u001b[0m\u001b[0;34m:\u001b[0m\u001b[0;34m\u001b[0m\u001b[0;34m\u001b[0m\u001b[0m\n\u001b[0m\u001b[1;32m    252\u001b[0m             \u001b[0mclf\u001b[0m \u001b[0;34m=\u001b[0m \u001b[0mpickle\u001b[0m\u001b[0;34m.\u001b[0m\u001b[0mload\u001b[0m\u001b[0;34m(\u001b[0m\u001b[0mf\u001b[0m\u001b[0;34m)\u001b[0m\u001b[0;34m\u001b[0m\u001b[0;34m\u001b[0m\u001b[0m\n\u001b[1;32m    253\u001b[0m \u001b[0;34m\u001b[0m\u001b[0m\n",
      "\u001b[0;31mAttributeError\u001b[0m: 'Binding' object has no attribute 'model'"
     ]
    }
   ],
   "source": [
    "xxx=a.run_binding(peak_bed,\"./\")\n"
   ]
  },
  {
   "cell_type": "code",
   "execution_count": null,
   "metadata": {},
   "outputs": [],
   "source": []
  }
 ],
 "metadata": {
  "kernelspec": {
   "display_name": "Python [conda env:regnetwork]",
   "language": "python",
   "name": "conda-env-regnetwork-py"
  }
 },
 "nbformat": 4,
 "nbformat_minor": 2
}
