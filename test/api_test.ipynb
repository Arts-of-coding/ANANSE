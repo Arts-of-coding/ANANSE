{
 "cells": [
  {
   "cell_type": "code",
   "execution_count": 17,
   "metadata": {
    "ExecuteTime": {
     "end_time": "2019-10-08T09:23:55.815767Z",
     "start_time": "2019-10-08T09:23:54.844422Z"
    }
   },
   "outputs": [
    {
     "data": {
      "text/plain": [
       "<module 'grns.interaction' from '../grns/interaction.py'>"
      ]
     },
     "execution_count": 17,
     "metadata": {},
     "output_type": "execute_result"
    }
   ],
   "source": [
    "import sys \n",
    "import importlib\n",
    "sys.path.append('../')\n",
    "\n",
    "import pandas as pd\n",
    "\n",
    "import dask.dataframe as dd\n",
    "\n",
    "import grns.binding\n",
    "import grns.interaction\n",
    "\n",
    "importlib.reload(grns.binding)\n",
    "importlib.reload(grns.interaction)\n"
   ]
  },
  {
   "cell_type": "code",
   "execution_count": 18,
   "metadata": {
    "ExecuteTime": {
     "end_time": "2019-10-08T09:23:57.211764Z",
     "start_time": "2019-10-08T09:23:57.207215Z"
    }
   },
   "outputs": [],
   "source": [
    "gene_bed=\"/home/qxu/.local/share/genomes/hg38/hg38_gffbed_piroteinCoding.bed\"\n",
    "peak_bed=\"data/krt_enhancer.bed\"\n",
    "pwmfile=\"../data/gimme.vertebrate.v5.1.pfm\""
   ]
  },
  {
   "cell_type": "code",
   "execution_count": 19,
   "metadata": {
    "ExecuteTime": {
     "end_time": "2019-10-08T09:23:59.309417Z",
     "start_time": "2019-10-08T09:23:58.592207Z"
    }
   },
   "outputs": [],
   "source": [
    "\n",
    "a=grns.binding.Binding(genome=\"hg38\", \n",
    "                        gene_bed= gene_bed, pwmfile=pwmfile)\n"
   ]
  },
  {
   "cell_type": "code",
   "execution_count": 20,
   "metadata": {
    "ExecuteTime": {
     "end_time": "2019-10-08T09:24:08.193801Z",
     "start_time": "2019-10-08T09:24:07.473438Z"
    }
   },
   "outputs": [],
   "source": [
    "filter_bed = a.clear_peaks(peak_bed)\n"
   ]
  },
  {
   "cell_type": "code",
   "execution_count": 21,
   "metadata": {
    "ExecuteTime": {
     "end_time": "2019-10-08T09:25:33.982330Z",
     "start_time": "2019-10-08T09:24:16.399372Z"
    }
   },
   "outputs": [
    {
     "name": "stdout",
     "output_type": "stream",
     "text": [
      "0 - 10000\n"
     ]
    },
    {
     "name": "stderr",
     "output_type": "stream",
     "text": [
      "2019-10-08 11:24:21,560 - INFO - using default background: genome hg38 with length 200\n",
      "2019-10-08 11:24:21,560 - INFO - using default background: genome hg38 with length 200\n",
      "2019-10-08 11:24:21,562 - INFO - using background: genome hg38 with length 200\n",
      "2019-10-08 11:24:21,562 - INFO - using background: genome hg38 with length 200\n"
     ]
    },
    {
     "name": "stdout",
     "output_type": "stream",
     "text": [
      "Combine\n",
      "combining tables\n",
      "predict\n",
      "save results\n"
     ]
    }
   ],
   "source": [
    "\n",
    "filter_bed = a.clear_peaks(peak_bed)\n",
    "\n",
    "pwm_weight = a.get_PWMScore(filter_bed.name)\n",
    "pwm = dd.read_csv(pwm_weight.name, sep=\"\\t\")\n",
    "\n",
    "peak_weight = a.get_peakRPKM(filter_bed.name)\n",
    "peak = dd.read_csv(peak_weight.name, sep=\"\\t\")\n",
    "\n",
    "table=a.get_binding_score(pwm, peak)\n",
    "\n"
   ]
  },
  {
   "cell_type": "code",
   "execution_count": 1,
   "metadata": {
    "ExecuteTime": {
     "end_time": "2019-10-07T18:08:40.495410Z",
     "start_time": "2019-10-07T18:08:40.492259Z"
    }
   },
   "outputs": [],
   "source": [
    "# xxx=a.run_binding(peak_bed,\"./\")\n"
   ]
  },
  {
   "cell_type": "code",
   "execution_count": 13,
   "metadata": {
    "ExecuteTime": {
     "end_time": "2019-10-07T18:13:31.410168Z",
     "start_time": "2019-10-07T18:13:31.403226Z"
    }
   },
   "outputs": [],
   "source": [
    "b=grns.interaction.Interaction(genome=\"hg38\", gene_bed= gene_bed, pwmfile=pwmfile)\n"
   ]
  },
  {
   "cell_type": "code",
   "execution_count": 14,
   "metadata": {
    "ExecuteTime": {
     "end_time": "2019-10-07T18:15:08.365054Z",
     "start_time": "2019-10-07T18:15:07.516219Z"
    }
   },
   "outputs": [],
   "source": [
    "y=b.get_promoter_dataframe(peak_bed)"
   ]
  },
  {
   "cell_type": "code",
   "execution_count": 16,
   "metadata": {
    "ExecuteTime": {
     "end_time": "2019-10-07T18:16:27.047838Z",
     "start_time": "2019-10-07T18:16:27.034685Z"
    }
   },
   "outputs": [
    {
     "data": {
      "text/html": [
       "<div>\n",
       "<style scoped>\n",
       "    .dataframe tbody tr th:only-of-type {\n",
       "        vertical-align: middle;\n",
       "    }\n",
       "\n",
       "    .dataframe tbody tr th {\n",
       "        vertical-align: top;\n",
       "    }\n",
       "\n",
       "    .dataframe thead th {\n",
       "        text-align: right;\n",
       "    }\n",
       "</style>\n",
       "<table border=\"1\" class=\"dataframe\">\n",
       "  <thead>\n",
       "    <tr style=\"text-align: right;\">\n",
       "      <th></th>\n",
       "      <th>chrom</th>\n",
       "      <th>gene</th>\n",
       "      <th>peak_start</th>\n",
       "      <th>peak_end</th>\n",
       "      <th>loc</th>\n",
       "    </tr>\n",
       "  </thead>\n",
       "  <tbody>\n",
       "    <tr>\n",
       "      <th>0</th>\n",
       "      <td>chr1</td>\n",
       "      <td>NPHP4</td>\n",
       "      <td>5992400</td>\n",
       "      <td>5992600</td>\n",
       "      <td>chr1:5992400-5992600</td>\n",
       "    </tr>\n",
       "    <tr>\n",
       "      <th>1</th>\n",
       "      <td>chr1</td>\n",
       "      <td>KCNAB2</td>\n",
       "      <td>5992400</td>\n",
       "      <td>5992600</td>\n",
       "      <td>chr1:5992400-5992600</td>\n",
       "    </tr>\n",
       "    <tr>\n",
       "      <th>2</th>\n",
       "      <td>chr1</td>\n",
       "      <td>PDIK1L</td>\n",
       "      <td>26111594</td>\n",
       "      <td>26111794</td>\n",
       "      <td>chr1:26111594-26111794</td>\n",
       "    </tr>\n",
       "    <tr>\n",
       "      <th>3</th>\n",
       "      <td>chr1</td>\n",
       "      <td>STX12</td>\n",
       "      <td>27772978</td>\n",
       "      <td>27773178</td>\n",
       "      <td>chr1:27772978-27773178</td>\n",
       "    </tr>\n",
       "    <tr>\n",
       "      <th>4</th>\n",
       "      <td>chr1</td>\n",
       "      <td>YTHDF2</td>\n",
       "      <td>28736783</td>\n",
       "      <td>28736983</td>\n",
       "      <td>chr1:28736783-28736983</td>\n",
       "    </tr>\n",
       "  </tbody>\n",
       "</table>\n",
       "</div>"
      ],
      "text/plain": [
       "  chrom    gene  peak_start  peak_end                     loc\n",
       "0  chr1   NPHP4     5992400   5992600    chr1:5992400-5992600\n",
       "1  chr1  KCNAB2     5992400   5992600    chr1:5992400-5992600\n",
       "2  chr1  PDIK1L    26111594  26111794  chr1:26111594-26111794\n",
       "3  chr1   STX12    27772978  27773178  chr1:27772978-27773178\n",
       "4  chr1  YTHDF2    28736783  28736983  chr1:28736783-28736983"
      ]
     },
     "execution_count": 16,
     "metadata": {},
     "output_type": "execute_result"
    }
   ],
   "source": [
    "y.gene=[i.upper() for i in list(y.gene)]\n",
    "y.head()"
   ]
  }
 ],
 "metadata": {
  "kernelspec": {
   "display_name": "Python [conda env:regnetwork]",
   "language": "python",
   "name": "conda-env-regnetwork-py"
  },
  "language_info": {
   "codemirror_mode": {
    "name": "ipython",
    "version": 3
   },
   "file_extension": ".py",
   "mimetype": "text/x-python",
   "name": "python",
   "nbconvert_exporter": "python",
   "pygments_lexer": "ipython3",
   "version": "3.6.8"
  }
 },
 "nbformat": 4,
 "nbformat_minor": 2
}
