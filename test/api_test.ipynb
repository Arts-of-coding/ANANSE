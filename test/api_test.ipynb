{
 "cells": [
  {
   "cell_type": "code",
   "execution_count": 30,
   "metadata": {
    "ExecuteTime": {
     "end_time": "2019-10-08T11:09:28.713184Z",
     "start_time": "2019-10-08T11:09:28.621191Z"
    }
   },
   "outputs": [
    {
     "data": {
      "text/plain": [
       "<module 'grns.interaction' from '../grns/interaction.py'>"
      ]
     },
     "execution_count": 30,
     "metadata": {},
     "output_type": "execute_result"
    }
   ],
   "source": [
    "import sys \n",
    "import importlib\n",
    "sys.path.append('../')\n",
    "\n",
    "import pandas as pd\n",
    "\n",
    "import dask.dataframe as dd\n",
    "\n",
    "import grns.binding\n",
    "import grns.interaction\n",
    "\n",
    "importlib.reload(grns.binding)\n",
    "importlib.reload(grns.interaction)\n"
   ]
  },
  {
   "cell_type": "code",
   "execution_count": 31,
   "metadata": {
    "ExecuteTime": {
     "end_time": "2019-10-08T11:09:29.785668Z",
     "start_time": "2019-10-08T11:09:29.781074Z"
    }
   },
   "outputs": [],
   "source": [
    "gene_bed=\"/home/qxu/.local/share/genomes/hg38/hg38_gffbed_piroteinCoding.bed\"\n",
    "peak_bed=\"data/krt_enhancer.bed\"\n",
    "pwmfile=\"../data/gimme.vertebrate.v5.1.pfm\""
   ]
  },
  {
   "cell_type": "code",
   "execution_count": 32,
   "metadata": {
    "ExecuteTime": {
     "end_time": "2019-10-08T11:09:31.944345Z",
     "start_time": "2019-10-08T11:09:30.652343Z"
    }
   },
   "outputs": [],
   "source": [
    "\n",
    "a=grns.binding.Binding(genome=\"hg38\", \n",
    "                        gene_bed= gene_bed, pwmfile=pwmfile)\n"
   ]
  },
  {
   "cell_type": "code",
   "execution_count": 33,
   "metadata": {
    "ExecuteTime": {
     "end_time": "2019-10-08T11:09:33.199963Z",
     "start_time": "2019-10-08T11:09:31.948692Z"
    }
   },
   "outputs": [],
   "source": [
    "filter_bed = a.clear_peaks(peak_bed)\n"
   ]
  },
  {
   "cell_type": "code",
   "execution_count": 1,
   "metadata": {
    "ExecuteTime": {
     "end_time": "2019-10-08T12:24:28.518983Z",
     "start_time": "2019-10-08T12:24:22.983828Z"
    }
   },
   "outputs": [],
   "source": [
    "from gimmemotifs.utils import as_fasta\n",
    "\n",
    "peak_bed=\"/tmp/grns.6579.2tzckjqa/tmpul6zse5p\"\n",
    "seqs = [s.split(\" \")[0] for s in as_fasta(peak_bed, genome=\"hg38\").ids] \n",
    "\n"
   ]
  },
  {
   "cell_type": "code",
   "execution_count": 4,
   "metadata": {
    "ExecuteTime": {
     "end_time": "2019-10-08T12:25:35.589543Z",
     "start_time": "2019-10-08T12:25:35.523230Z"
    }
   },
   "outputs": [
    {
     "ename": "ValueError",
     "evalue": "no file found with name /tmp/grns.6579.2tzckjqa/tmpul6",
     "output_type": "error",
     "traceback": [
      "\u001b[0;31m---------------------------------------------------------------------------\u001b[0m",
      "\u001b[0;31mValueError\u001b[0m                                Traceback (most recent call last)",
      "\u001b[0;32m<ipython-input-4-97dbd75ab6c9>\u001b[0m in \u001b[0;36m<module>\u001b[0;34m\u001b[0m\n\u001b[0;32m----> 1\u001b[0;31m \u001b[0mseqs\u001b[0m \u001b[0;34m=\u001b[0m \u001b[0;34m[\u001b[0m\u001b[0ms\u001b[0m\u001b[0;34m.\u001b[0m\u001b[0msplit\u001b[0m\u001b[0;34m(\u001b[0m\u001b[0;34m\" \"\u001b[0m\u001b[0;34m)\u001b[0m\u001b[0;34m[\u001b[0m\u001b[0;36m0\u001b[0m\u001b[0;34m]\u001b[0m \u001b[0;32mfor\u001b[0m \u001b[0ms\u001b[0m \u001b[0;32min\u001b[0m \u001b[0mas_fasta\u001b[0m\u001b[0;34m(\u001b[0m\u001b[0;34m\"/tmp/grns.6579.2tzckjqa/tmpul6\"\u001b[0m\u001b[0;34m,\u001b[0m \u001b[0mgenome\u001b[0m\u001b[0;34m=\u001b[0m\u001b[0;34m\"hg38\"\u001b[0m\u001b[0;34m)\u001b[0m\u001b[0;34m.\u001b[0m\u001b[0mids\u001b[0m\u001b[0;34m]\u001b[0m\u001b[0;34m\u001b[0m\u001b[0;34m\u001b[0m\u001b[0m\n\u001b[0m",
      "\u001b[0;32m~/anaconda3/envs/regnetwork/lib/python3.6/site-packages/gimmemotifs/utils.py\u001b[0m in \u001b[0;36mas_fasta\u001b[0;34m(seqs, genome)\u001b[0m\n\u001b[1;32m    584\u001b[0m \u001b[0;34m\u001b[0m\u001b[0m\n\u001b[1;32m    585\u001b[0m \u001b[0;32mdef\u001b[0m \u001b[0mas_fasta\u001b[0m\u001b[0;34m(\u001b[0m\u001b[0mseqs\u001b[0m\u001b[0;34m,\u001b[0m \u001b[0mgenome\u001b[0m\u001b[0;34m=\u001b[0m\u001b[0;32mNone\u001b[0m\u001b[0;34m)\u001b[0m\u001b[0;34m:\u001b[0m\u001b[0;34m\u001b[0m\u001b[0;34m\u001b[0m\u001b[0m\n\u001b[0;32m--> 586\u001b[0;31m     \u001b[0mftype\u001b[0m \u001b[0;34m=\u001b[0m \u001b[0mget_seqs_type\u001b[0m\u001b[0;34m(\u001b[0m\u001b[0mseqs\u001b[0m\u001b[0;34m)\u001b[0m\u001b[0;34m\u001b[0m\u001b[0;34m\u001b[0m\u001b[0m\n\u001b[0m\u001b[1;32m    587\u001b[0m     \u001b[0;32mif\u001b[0m \u001b[0mftype\u001b[0m \u001b[0;34m==\u001b[0m \u001b[0;34m\"fasta\"\u001b[0m\u001b[0;34m:\u001b[0m\u001b[0;34m\u001b[0m\u001b[0;34m\u001b[0m\u001b[0m\n\u001b[1;32m    588\u001b[0m         \u001b[0;32mreturn\u001b[0m \u001b[0mseqs\u001b[0m\u001b[0;34m\u001b[0m\u001b[0;34m\u001b[0m\u001b[0m\n",
      "\u001b[0;32m~/anaconda3/envs/regnetwork/lib/python3.6/site-packages/gimmemotifs/utils.py\u001b[0m in \u001b[0;36mget_seqs_type\u001b[0;34m(seqs)\u001b[0m\n\u001b[1;32m    579\u001b[0m                 \u001b[0;32mreturn\u001b[0m \u001b[0mftype\u001b[0m \u001b[0;34m+\u001b[0m \u001b[0;34m\"file\"\u001b[0m\u001b[0;34m\u001b[0m\u001b[0;34m\u001b[0m\u001b[0m\n\u001b[1;32m    580\u001b[0m         \u001b[0;32melse\u001b[0m\u001b[0;34m:\u001b[0m\u001b[0;34m\u001b[0m\u001b[0;34m\u001b[0m\u001b[0m\n\u001b[0;32m--> 581\u001b[0;31m             \u001b[0;32mraise\u001b[0m \u001b[0mValueError\u001b[0m\u001b[0;34m(\u001b[0m\u001b[0;34m\"no file found with name {}\"\u001b[0m\u001b[0;34m.\u001b[0m\u001b[0mformat\u001b[0m\u001b[0;34m(\u001b[0m\u001b[0mseqs\u001b[0m\u001b[0;34m)\u001b[0m\u001b[0;34m)\u001b[0m\u001b[0;34m\u001b[0m\u001b[0;34m\u001b[0m\u001b[0m\n\u001b[0m\u001b[1;32m    582\u001b[0m     \u001b[0;32melse\u001b[0m\u001b[0;34m:\u001b[0m\u001b[0;34m\u001b[0m\u001b[0;34m\u001b[0m\u001b[0m\n\u001b[1;32m    583\u001b[0m         \u001b[0;32mraise\u001b[0m \u001b[0mValueError\u001b[0m\u001b[0;34m(\u001b[0m\u001b[0;34m\"unknown type {}\"\u001b[0m\u001b[0;34m.\u001b[0m\u001b[0mformat\u001b[0m\u001b[0;34m(\u001b[0m\u001b[0mtype\u001b[0m\u001b[0;34m(\u001b[0m\u001b[0mseqs\u001b[0m\u001b[0;34m)\u001b[0m\u001b[0;34m.\u001b[0m\u001b[0m__name__\u001b[0m\u001b[0;34m)\u001b[0m\u001b[0;34m)\u001b[0m\u001b[0;34m\u001b[0m\u001b[0;34m\u001b[0m\u001b[0m\n",
      "\u001b[0;31mValueError\u001b[0m: no file found with name /tmp/grns.6579.2tzckjqa/tmpul6"
     ]
    }
   ],
   "source": [
    "seqs = [s.split(\" \")[0] for s in as_fasta(\"/tmp/grns.6579.2tzckjqa/tmpul6\", genome=\"hg38\").ids] \n"
   ]
  },
  {
   "cell_type": "code",
   "execution_count": 21,
   "metadata": {
    "ExecuteTime": {
     "end_time": "2019-10-08T09:25:33.982330Z",
     "start_time": "2019-10-08T09:24:16.399372Z"
    }
   },
   "outputs": [
    {
     "name": "stdout",
     "output_type": "stream",
     "text": [
      "0 - 10000\n"
     ]
    },
    {
     "name": "stderr",
     "output_type": "stream",
     "text": [
      "2019-10-08 11:24:21,560 - INFO - using default background: genome hg38 with length 200\n",
      "2019-10-08 11:24:21,560 - INFO - using default background: genome hg38 with length 200\n",
      "2019-10-08 11:24:21,562 - INFO - using background: genome hg38 with length 200\n",
      "2019-10-08 11:24:21,562 - INFO - using background: genome hg38 with length 200\n"
     ]
    },
    {
     "name": "stdout",
     "output_type": "stream",
     "text": [
      "Combine\n",
      "combining tables\n",
      "predict\n",
      "save results\n"
     ]
    }
   ],
   "source": [
    "\n",
    "filter_bed = a.clear_peaks(peak_bed)\n",
    "\n",
    "pwm_weight = a.get_PWMScore(filter_bed)\n",
    "pwm = dd.read_csv(pwm_weight.name, sep=\"\\t\")\n",
    "\n",
    "peak_weight = a.get_peakRPKM(filter_bed)\n",
    "peak = dd.read_csv(peak_weight.name, sep=\"\\t\")\n",
    "\n",
    "table=a.get_binding_score(pwm, peak)\n",
    "\n"
   ]
  },
  {
   "cell_type": "code",
   "execution_count": 1,
   "metadata": {
    "ExecuteTime": {
     "end_time": "2019-10-07T18:08:40.495410Z",
     "start_time": "2019-10-07T18:08:40.492259Z"
    }
   },
   "outputs": [],
   "source": [
    "# xxx=a.run_binding(peak_bed,\"./\")\n"
   ]
  },
  {
   "cell_type": "code",
   "execution_count": 13,
   "metadata": {
    "ExecuteTime": {
     "end_time": "2019-10-07T18:13:31.410168Z",
     "start_time": "2019-10-07T18:13:31.403226Z"
    }
   },
   "outputs": [],
   "source": [
    "b=grns.interaction.Interaction(genome=\"hg38\", gene_bed= gene_bed, pwmfile=pwmfile)\n"
   ]
  },
  {
   "cell_type": "code",
   "execution_count": 14,
   "metadata": {
    "ExecuteTime": {
     "end_time": "2019-10-07T18:15:08.365054Z",
     "start_time": "2019-10-07T18:15:07.516219Z"
    }
   },
   "outputs": [],
   "source": [
    "y=b.get_promoter_dataframe(peak_bed)"
   ]
  },
  {
   "cell_type": "code",
   "execution_count": 16,
   "metadata": {
    "ExecuteTime": {
     "end_time": "2019-10-07T18:16:27.047838Z",
     "start_time": "2019-10-07T18:16:27.034685Z"
    }
   },
   "outputs": [
    {
     "data": {
      "text/html": [
       "<div>\n",
       "<style scoped>\n",
       "    .dataframe tbody tr th:only-of-type {\n",
       "        vertical-align: middle;\n",
       "    }\n",
       "\n",
       "    .dataframe tbody tr th {\n",
       "        vertical-align: top;\n",
       "    }\n",
       "\n",
       "    .dataframe thead th {\n",
       "        text-align: right;\n",
       "    }\n",
       "</style>\n",
       "<table border=\"1\" class=\"dataframe\">\n",
       "  <thead>\n",
       "    <tr style=\"text-align: right;\">\n",
       "      <th></th>\n",
       "      <th>chrom</th>\n",
       "      <th>gene</th>\n",
       "      <th>peak_start</th>\n",
       "      <th>peak_end</th>\n",
       "      <th>loc</th>\n",
       "    </tr>\n",
       "  </thead>\n",
       "  <tbody>\n",
       "    <tr>\n",
       "      <th>0</th>\n",
       "      <td>chr1</td>\n",
       "      <td>NPHP4</td>\n",
       "      <td>5992400</td>\n",
       "      <td>5992600</td>\n",
       "      <td>chr1:5992400-5992600</td>\n",
       "    </tr>\n",
       "    <tr>\n",
       "      <th>1</th>\n",
       "      <td>chr1</td>\n",
       "      <td>KCNAB2</td>\n",
       "      <td>5992400</td>\n",
       "      <td>5992600</td>\n",
       "      <td>chr1:5992400-5992600</td>\n",
       "    </tr>\n",
       "    <tr>\n",
       "      <th>2</th>\n",
       "      <td>chr1</td>\n",
       "      <td>PDIK1L</td>\n",
       "      <td>26111594</td>\n",
       "      <td>26111794</td>\n",
       "      <td>chr1:26111594-26111794</td>\n",
       "    </tr>\n",
       "    <tr>\n",
       "      <th>3</th>\n",
       "      <td>chr1</td>\n",
       "      <td>STX12</td>\n",
       "      <td>27772978</td>\n",
       "      <td>27773178</td>\n",
       "      <td>chr1:27772978-27773178</td>\n",
       "    </tr>\n",
       "    <tr>\n",
       "      <th>4</th>\n",
       "      <td>chr1</td>\n",
       "      <td>YTHDF2</td>\n",
       "      <td>28736783</td>\n",
       "      <td>28736983</td>\n",
       "      <td>chr1:28736783-28736983</td>\n",
       "    </tr>\n",
       "  </tbody>\n",
       "</table>\n",
       "</div>"
      ],
      "text/plain": [
       "  chrom    gene  peak_start  peak_end                     loc\n",
       "0  chr1   NPHP4     5992400   5992600    chr1:5992400-5992600\n",
       "1  chr1  KCNAB2     5992400   5992600    chr1:5992400-5992600\n",
       "2  chr1  PDIK1L    26111594  26111794  chr1:26111594-26111794\n",
       "3  chr1   STX12    27772978  27773178  chr1:27772978-27773178\n",
       "4  chr1  YTHDF2    28736783  28736983  chr1:28736783-28736983"
      ]
     },
     "execution_count": 16,
     "metadata": {},
     "output_type": "execute_result"
    }
   ],
   "source": [
    "y.gene=[i.upper() for i in list(y.gene)]\n",
    "y.head()"
   ]
  }
 ],
 "metadata": {
  "kernelspec": {
   "display_name": "Python [conda env:regnetwork]",
   "language": "python",
   "name": "conda-env-regnetwork-py"
  },
  "language_info": {
   "codemirror_mode": {
    "name": "ipython",
    "version": 3
   },
   "file_extension": ".py",
   "mimetype": "text/x-python",
   "name": "python",
   "nbconvert_exporter": "python",
   "pygments_lexer": "ipython3",
   "version": "3.6.8"
  }
 },
 "nbformat": 4,
 "nbformat_minor": 2
}
