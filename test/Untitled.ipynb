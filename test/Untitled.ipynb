{
 "cells": [
  {
   "cell_type": "code",
   "execution_count": 1,
   "metadata": {
    "ExecuteTime": {
     "end_time": "2020-03-30T08:11:25.724816Z",
     "start_time": "2020-03-30T08:11:21.582258Z"
    }
   },
   "outputs": [],
   "source": [
    "# Python imports\n",
    "import math\n",
    "import warnings\n",
    "from tempfile import NamedTemporaryFile\n",
    "\n",
    "import numpy as np\n",
    "import pandas as pd\n",
    "from scipy.stats import rankdata\n",
    "from sklearn.preprocessing import minmax_scale\n",
    "import dask.dataframe as dd\n",
    "\n",
    "from pybedtools import BedTool\n",
    "from genomepy import Genome\n",
    "\n",
    "from ananse import mytmpdir\n"
   ]
  },
  {
   "cell_type": "code",
   "execution_count": 52,
   "metadata": {
    "ExecuteTime": {
     "end_time": "2020-03-30T09:23:02.354207Z",
     "start_time": "2020-03-30T09:23:02.325492Z"
    }
   },
   "outputs": [],
   "source": [
    "binding = \"results/binding.txt\"\n",
    "ddf = dd.read_csv(binding, sep=\"\\t\")[[\"factor\", \"enhancer\", \"binding\"]]\n"
   ]
  },
  {
   "cell_type": "code",
   "execution_count": 53,
   "metadata": {
    "ExecuteTime": {
     "end_time": "2020-03-30T09:23:04.508893Z",
     "start_time": "2020-03-30T09:23:03.610287Z"
    }
   },
   "outputs": [
    {
     "data": {
      "text/html": [
       "<div>\n",
       "<style scoped>\n",
       "    .dataframe tbody tr th:only-of-type {\n",
       "        vertical-align: middle;\n",
       "    }\n",
       "\n",
       "    .dataframe tbody tr th {\n",
       "        vertical-align: top;\n",
       "    }\n",
       "\n",
       "    .dataframe thead th {\n",
       "        text-align: right;\n",
       "    }\n",
       "</style>\n",
       "<table border=\"1\" class=\"dataframe\">\n",
       "  <thead>\n",
       "    <tr style=\"text-align: right;\">\n",
       "      <th></th>\n",
       "      <th>factor</th>\n",
       "      <th>enhancer</th>\n",
       "      <th>binding</th>\n",
       "    </tr>\n",
       "  </thead>\n",
       "  <tbody>\n",
       "    <tr>\n",
       "      <th>0</th>\n",
       "      <td>9430076C15RIK</td>\n",
       "      <td>chr10:119207353-119207553</td>\n",
       "      <td>0.559406</td>\n",
       "    </tr>\n",
       "    <tr>\n",
       "      <th>1</th>\n",
       "      <td>9430076C15RIK</td>\n",
       "      <td>chr10:1600958-1601158</td>\n",
       "      <td>0.362134</td>\n",
       "    </tr>\n",
       "    <tr>\n",
       "      <th>2</th>\n",
       "      <td>9430076C15RIK</td>\n",
       "      <td>chr10:30447410-30447610</td>\n",
       "      <td>0.382891</td>\n",
       "    </tr>\n",
       "    <tr>\n",
       "      <th>3</th>\n",
       "      <td>9430076C15RIK</td>\n",
       "      <td>chr10:35306927-35307127</td>\n",
       "      <td>0.350165</td>\n",
       "    </tr>\n",
       "    <tr>\n",
       "      <th>4</th>\n",
       "      <td>9430076C15RIK</td>\n",
       "      <td>chr10:37489166-37489366</td>\n",
       "      <td>0.451121</td>\n",
       "    </tr>\n",
       "  </tbody>\n",
       "</table>\n",
       "</div>"
      ],
      "text/plain": [
       "          factor                   enhancer   binding\n",
       "0  9430076C15RIK  chr10:119207353-119207553  0.559406\n",
       "1  9430076C15RIK      chr10:1600958-1601158  0.362134\n",
       "2  9430076C15RIK    chr10:30447410-30447610  0.382891\n",
       "3  9430076C15RIK    chr10:35306927-35307127  0.350165\n",
       "4  9430076C15RIK    chr10:37489166-37489366  0.451121"
      ]
     },
     "execution_count": 53,
     "metadata": {},
     "output_type": "execute_result"
    }
   ],
   "source": [
    "ddf.head()"
   ]
  },
  {
   "cell_type": "code",
   "execution_count": 51,
   "metadata": {
    "ExecuteTime": {
     "end_time": "2020-03-30T08:41:43.630359Z",
     "start_time": "2020-03-30T08:41:42.030169Z"
    }
   },
   "outputs": [
    {
     "data": {
      "text/html": [
       "<div>\n",
       "<style scoped>\n",
       "    .dataframe tbody tr th:only-of-type {\n",
       "        vertical-align: middle;\n",
       "    }\n",
       "\n",
       "    .dataframe tbody tr th {\n",
       "        vertical-align: top;\n",
       "    }\n",
       "\n",
       "    .dataframe thead th {\n",
       "        text-align: right;\n",
       "    }\n",
       "</style>\n",
       "<table border=\"1\" class=\"dataframe\">\n",
       "  <thead>\n",
       "    <tr style=\"text-align: right;\">\n",
       "      <th></th>\n",
       "      <th>chr</th>\n",
       "      <th>start</th>\n",
       "      <th>end</th>\n",
       "    </tr>\n",
       "  </thead>\n",
       "  <tbody>\n",
       "    <tr>\n",
       "      <th>0</th>\n",
       "      <td>chr8</td>\n",
       "      <td>81732338</td>\n",
       "      <td>81732538</td>\n",
       "    </tr>\n",
       "    <tr>\n",
       "      <th>1</th>\n",
       "      <td>chr4</td>\n",
       "      <td>32161404</td>\n",
       "      <td>32161604</td>\n",
       "    </tr>\n",
       "    <tr>\n",
       "      <th>2</th>\n",
       "      <td>chr17</td>\n",
       "      <td>43231746</td>\n",
       "      <td>43231946</td>\n",
       "    </tr>\n",
       "    <tr>\n",
       "      <th>3</th>\n",
       "      <td>chr5</td>\n",
       "      <td>80407862</td>\n",
       "      <td>80408062</td>\n",
       "    </tr>\n",
       "    <tr>\n",
       "      <th>4</th>\n",
       "      <td>chr6</td>\n",
       "      <td>99425255</td>\n",
       "      <td>99425455</td>\n",
       "    </tr>\n",
       "  </tbody>\n",
       "</table>\n",
       "</div>"
      ],
      "text/plain": [
       "     chr     start       end\n",
       "0   chr8  81732338  81732538\n",
       "1   chr4  32161404  32161604\n",
       "2  chr17  43231746  43231946\n",
       "3   chr5  80407862  80408062\n",
       "4   chr6  99425255  99425455"
      ]
     },
     "execution_count": 51,
     "metadata": {},
     "output_type": "execute_result"
    }
   ],
   "source": [
    "enhancerbed = pd.DataFrame(set(ddf.enhancer))\n",
    "# \n",
    "enhancerbed[[\"chr\",\"site\"]]=enhancerbed[0].str.split(\":\",expand=True)\n",
    "enhancerbed[[\"start\",\"end\"]]=enhancerbed.site.str.split(\"-\",expand=True)\n",
    "enhancerbed.drop(columns=[0,\"site\"], inplace=True)\n",
    "enhancerbed.to_csv()"
   ]
  },
  {
   "cell_type": "code",
   "execution_count": 48,
   "metadata": {
    "ExecuteTime": {
     "end_time": "2020-03-30T08:41:04.947215Z",
     "start_time": "2020-03-30T08:41:04.921867Z"
    }
   },
   "outputs": [
    {
     "data": {
      "text/html": [
       "<div>\n",
       "<style scoped>\n",
       "    .dataframe tbody tr th:only-of-type {\n",
       "        vertical-align: middle;\n",
       "    }\n",
       "\n",
       "    .dataframe tbody tr th {\n",
       "        vertical-align: top;\n",
       "    }\n",
       "\n",
       "    .dataframe thead th {\n",
       "        text-align: right;\n",
       "    }\n",
       "</style>\n",
       "<table border=\"1\" class=\"dataframe\">\n",
       "  <thead>\n",
       "    <tr style=\"text-align: right;\">\n",
       "      <th></th>\n",
       "      <th>chr</th>\n",
       "      <th>start</th>\n",
       "      <th>end</th>\n",
       "    </tr>\n",
       "  </thead>\n",
       "  <tbody>\n",
       "    <tr>\n",
       "      <th>0</th>\n",
       "      <td>chr8</td>\n",
       "      <td>81732338</td>\n",
       "      <td>81732538</td>\n",
       "    </tr>\n",
       "    <tr>\n",
       "      <th>1</th>\n",
       "      <td>chr4</td>\n",
       "      <td>32161404</td>\n",
       "      <td>32161604</td>\n",
       "    </tr>\n",
       "    <tr>\n",
       "      <th>2</th>\n",
       "      <td>chr17</td>\n",
       "      <td>43231746</td>\n",
       "      <td>43231946</td>\n",
       "    </tr>\n",
       "    <tr>\n",
       "      <th>3</th>\n",
       "      <td>chr5</td>\n",
       "      <td>80407862</td>\n",
       "      <td>80408062</td>\n",
       "    </tr>\n",
       "    <tr>\n",
       "      <th>4</th>\n",
       "      <td>chr6</td>\n",
       "      <td>99425255</td>\n",
       "      <td>99425455</td>\n",
       "    </tr>\n",
       "    <tr>\n",
       "      <th>...</th>\n",
       "      <td>...</td>\n",
       "      <td>...</td>\n",
       "      <td>...</td>\n",
       "    </tr>\n",
       "    <tr>\n",
       "      <th>995</th>\n",
       "      <td>chr4</td>\n",
       "      <td>43457877</td>\n",
       "      <td>43458077</td>\n",
       "    </tr>\n",
       "    <tr>\n",
       "      <th>996</th>\n",
       "      <td>chr6</td>\n",
       "      <td>118935010</td>\n",
       "      <td>118935210</td>\n",
       "    </tr>\n",
       "    <tr>\n",
       "      <th>997</th>\n",
       "      <td>chr10</td>\n",
       "      <td>338546</td>\n",
       "      <td>338746</td>\n",
       "    </tr>\n",
       "    <tr>\n",
       "      <th>998</th>\n",
       "      <td>chrX</td>\n",
       "      <td>103656709</td>\n",
       "      <td>103656909</td>\n",
       "    </tr>\n",
       "    <tr>\n",
       "      <th>999</th>\n",
       "      <td>chr21</td>\n",
       "      <td>7569729</td>\n",
       "      <td>7569929</td>\n",
       "    </tr>\n",
       "  </tbody>\n",
       "</table>\n",
       "<p>1000 rows × 3 columns</p>\n",
       "</div>"
      ],
      "text/plain": [
       "       chr      start        end\n",
       "0     chr8   81732338   81732538\n",
       "1     chr4   32161404   32161604\n",
       "2    chr17   43231746   43231946\n",
       "3     chr5   80407862   80408062\n",
       "4     chr6   99425255   99425455\n",
       "..     ...        ...        ...\n",
       "995   chr4   43457877   43458077\n",
       "996   chr6  118935010  118935210\n",
       "997  chr10     338546     338746\n",
       "998   chrX  103656709  103656909\n",
       "999  chr21    7569729    7569929\n",
       "\n",
       "[1000 rows x 3 columns]"
      ]
     },
     "execution_count": 48,
     "metadata": {},
     "output_type": "execute_result"
    }
   ],
   "source": []
  }
 ],
 "metadata": {
  "hide_input": false,
  "kernelspec": {
   "display_name": "ananse",
   "language": "python",
   "name": "ananse"
  },
  "language_info": {
   "codemirror_mode": {
    "name": "ipython",
    "version": 3
   },
   "file_extension": ".py",
   "mimetype": "text/x-python",
   "name": "python",
   "nbconvert_exporter": "python",
   "pygments_lexer": "ipython3",
   "version": "3.6.10"
  },
  "toc": {
   "base_numbering": 1,
   "nav_menu": {},
   "number_sections": true,
   "sideBar": true,
   "skip_h1_title": false,
   "title_cell": "Table of Contents",
   "title_sidebar": "Contents",
   "toc_cell": false,
   "toc_position": {},
   "toc_section_display": true,
   "toc_window_display": false
  },
  "varInspector": {
   "cols": {
    "lenName": 16,
    "lenType": 16,
    "lenVar": 40
   },
   "kernels_config": {
    "python": {
     "delete_cmd_postfix": "",
     "delete_cmd_prefix": "del ",
     "library": "var_list.py",
     "varRefreshCmd": "print(var_dic_list())"
    },
    "r": {
     "delete_cmd_postfix": ") ",
     "delete_cmd_prefix": "rm(",
     "library": "var_list.r",
     "varRefreshCmd": "cat(var_dic_list()) "
    }
   },
   "types_to_exclude": [
    "module",
    "function",
    "builtin_function_or_method",
    "instance",
    "_Feature"
   ],
   "window_display": false
  }
 },
 "nbformat": 4,
 "nbformat_minor": 2
}
